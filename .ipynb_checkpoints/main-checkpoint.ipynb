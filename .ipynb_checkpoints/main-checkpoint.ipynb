{
 "cells": [
  {
   "cell_type": "code",
   "execution_count": 2,
   "metadata": {},
   "outputs": [],
   "source": [
    "import pandas as pd\n",
    "import matplotlib.pyplot as plt"
   ]
  },
  {
   "cell_type": "code",
   "execution_count": 3,
   "metadata": {},
   "outputs": [
    {
     "name": "stdout",
     "output_type": "stream",
     "text": [
      "    a   b   c   d   e   f\n",
      "0  80  60  75  73  81  66\n",
      "1  70  84  88  90  65  60\n",
      "2  60  40  55  58  47  49\n",
      "3  60  65  60  70  68  72\n",
      "4  60  35  40  20  56  57\n",
      "5  95  98  85  87  93  95\n",
      "6  55  70  53  64  74  77\n",
      "7  50  53  57  63  58  40\n",
      "8  62  64  53  58  40  45\n"
     ]
    }
   ],
   "source": [
    "columnHeaders = ['a', 'b', 'c', 'd', 'e', 'f']\n",
    "data = pd.read_csv('data.txt', sep=' ', header=None, names=columnHeaders)\n",
    "print(data)"
   ]
  },
  {
   "cell_type": "code",
   "execution_count": 55,
   "metadata": {},
   "outputs": [],
   "source": [
    "centroid = [0, 0, 0, 0, 0, 0]"
   ]
  },
  {
   "cell_type": "code",
   "execution_count": 62,
   "metadata": {},
   "outputs": [
    {
     "name": "stdout",
     "output_type": "stream",
     "text": [
      "[1 1 0 0 0 1 0 0 0]\n",
      "    a   b   c   d   e   f  cluster\n",
      "0  80  60  75  73  81  66        1\n",
      "1  70  84  88  90  65  60        1\n",
      "2  60  40  55  58  47  49        0\n",
      "3  60  65  60  70  68  72        0\n",
      "4  60  35  40  20  56  57        0\n",
      "5  95  98  85  87  93  95        1\n",
      "6  55  70  53  64  74  77        0\n",
      "7  50  53  57  63  58  40        0\n",
      "8  62  64  53  58  40  45        0\n",
      "1\n",
      "1\n",
      "0\n",
      "0\n",
      "0\n",
      "1\n",
      "0\n",
      "0\n",
      "0\n"
     ]
    },
    {
     "data": {
      "image/png": "[encoded data removed]",
      "text/plain": [
       "<Figure size 432x288 with 1 Axes>"
      ]
     },
     "metadata": {},
     "output_type": "display_data"
    }
   ],
   "source": []
  },
  {
   "cell_type": "code",
   "execution_count": null,
   "metadata": {},
   "outputs": [],
   "source": [
    "\n"
   ]
  }
 ],
 "metadata": {
  "kernelspec": {
   "display_name": "Python 3",
   "language": "python",
   "name": "python3"
  },
  "language_info": {
   "codemirror_mode": {
    "name": "ipython",
    "version": 3
   },
   "file_extension": ".py",
   "mimetype": "text/x-python",
   "name": "python",
   "nbconvert_exporter": "python",
   "pygments_lexer": "ipython3",
   "version": "3.6.5"
  }
 },
 "nbformat": 4,
 "nbformat_minor": 1
}
