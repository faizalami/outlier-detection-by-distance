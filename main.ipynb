{
 "cells": [
  {
   "cell_type": "code",
   "execution_count": 2,
   "metadata": {},
   "outputs": [],
   "source": [
    "import pandas as pd\n",
    "import math\n",
    "import matplotlib.pyplot as plt"
   ]
  },
  {
   "cell_type": "code",
   "execution_count": 6,
   "metadata": {},
   "outputs": [
    {
     "name": "stdout",
     "output_type": "stream",
     "text": [
      "    0   1   2   3   4   5\n0  80  60  75  73  81  66\n1  70  84  88  90  65  60\n2  60  40  55  58  47  49\n3  60  65  60  70  68  72\n4  60  35  40  20  56  57\n5  95  98  85  87  93  95\n6  55  70  53  64  74  77\n7  50  53  57  63  58  40\n8  62  64  53  58  40  45\n"
     ]
    }
   ],
   "source": [
    "data = pd.read_csv('data.txt', sep=' ', header=None)\n",
    "print(data)"
   ]
  },
  {
   "cell_type": "code",
   "execution_count": 8,
   "metadata": {
    "collapsed": false
   },
   "outputs": [
    {
     "name": "stdout",
     "output_type": "stream",
     "text": [
      "[65.77777777777777, 63.22222222222222, 62.888888888888886, 64.77777777777777, 64.66666666666667, 62.333333333333336]\n"
     ]
    }
   ],
   "source": [
    "centroid = [0, 0, 0, 0, 0, 0]\n",
    "n_data = len(data)\n",
    "\n",
    "for index, item in data.iterrows():\n",
    "    for i in range(len(centroid)):\n",
    "        centroid[i] += item[i]\n",
    "\n",
    "for i in range(len(centroid)):\n",
    "    centroid[i] /= n_data\n",
    "    \n",
    "print(centroid)\n"
   ]
  },
  {
   "cell_type": "code",
   "execution_count": 9,
   "metadata": {},
   "outputs": [],
   "source": [
    "def calculate_distance(a, b):\n",
    "    total = 0\n",
    "    for i in range(len(a)):\n",
    "        total += math.pow(a[i]-b[i], 2)\n",
    "    return math.sqrt(total)"
   ]
  },
  {
   "cell_type": "code",
   "execution_count": 10,
   "metadata": {},
   "outputs": [
    {
     "name": "stdout",
     "output_type": "stream",
     "text": [
      "[26.592489425158387, 41.49490523538796, 34.21572809955556, 13.293458894611138, 58.84201488774311, 70.11454473014889, 23.721636734903342, 30.569491771380395, 32.67252404024663]\n"
     ]
    }
   ],
   "source": [
    "distances = []\n",
    "\n",
    "for index, item in data.iterrows():\n",
    "    distances.append(calculate_distance(centroid, item))\n",
    "\n",
    "print(distances)"
   ]
  },
  {
   "cell_type": "code",
   "execution_count": 11,
   "metadata": {},
   "outputs": [
    {
     "name": "stdout",
     "output_type": "stream",
     "text": [
      "36.83519931323727\n"
     ]
    }
   ],
   "source": [
    "distance_avg = 0\n",
    "distance_count = len(distances)\n",
    "\n",
    "for i in range(distance_count):\n",
    "    distance_avg += distances[i]\n",
    "    \n",
    "distance_avg /= distance_count\n",
    "\n",
    "print(distance_avg)"
   ]
  },
  {
   "cell_type": "code",
   "execution_count": 14,
   "metadata": {},
   "outputs": [
    {
     "name": "stdout",
     "output_type": "stream",
     "text": [
      "outliers :\n    0   1   2   3   4   5\n5  95  98  85  87  93  95\n"
     ]
    },
    {
     "data": {
      "image/png": "[encoded data removed]",
      "text/plain": [
       "<Figure size 432x288 with 1 Axes>"
      ]
     },
     "metadata": {},
     "output_type": "display_data"
    }
   ],
   "source": [
    "distance_tresshold = distance_avg * 1.6\n",
    "# outlier = 1 not-outlier = 0\n",
    "outliers = []\n",
    "outliers_index = []\n",
    "plot_colors = []\n",
    "\n",
    "\n",
    "for i in range(distance_count):\n",
    "    if distances[i] > distance_tresshold:\n",
    "        outliers.append(1)\n",
    "        plot_colors.append('r')\n",
    "        outliers_index.append(i)\n",
    "    else:\n",
    "        outliers.append(0)\n",
    "        plot_colors.append('b')\n",
    "\n",
    "print('outliers :')\n",
    "print(data.take(outliers_index))\n",
    "\n",
    "plt.scatter(data[0], data[1], c=plot_colors)\n",
    "plt.xlabel(\"x\")\n",
    "plt.ylabel(\"y\")\n",
    "plt.show()"
   ]
  },
  {
   "cell_type": "code",
   "execution_count": null,
   "metadata": {},
   "outputs": [],
   "source": []
  }
 ],
 "metadata": {
  "kernelspec": {
   "display_name": "Python 3",
   "language": "python",
   "name": "python3"
  },
  "language_info": {
   "codemirror_mode": {
    "name": "ipython",
    "version": 3
   },
   "file_extension": ".py",
   "mimetype": "text/x-python",
   "name": "python",
   "nbconvert_exporter": "python",
   "pygments_lexer": "ipython3",
   "version": "3.6.5"
  }
 },
 "nbformat": 4,
 "nbformat_minor": 1
}
